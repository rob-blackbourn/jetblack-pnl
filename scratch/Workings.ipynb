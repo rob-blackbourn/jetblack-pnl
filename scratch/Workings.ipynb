{
 "cells": [
  {
   "cell_type": "code",
   "execution_count": null,
   "id": "739277c1",
   "metadata": {},
   "outputs": [],
   "source": [
    "from dataclasses import dataclass\n",
    "from decimal import Decimal\n",
    "from typing import Literal\n",
    "\n",
    "from jetblack_pnl.core import (\n",
    "    add_trade,\n",
    "    TradingPnl,\n",
    "    IMatchedPool,\n",
    "    IUnmatchedPool,\n",
    "    SplitTrade    \n",
    ")\n",
    "from jetblack_pnl.impl.simple import MatchedPool, UnmatchedPool, Security\n",
    "\n",
    "class TradeData:\n",
    "\n",
    "    def __init__(self, trade_id: int, description: str) -> None:\n",
    "        self.trade_id = trade_id\n",
    "        self.description = description\n",
    "\n",
    "    def __repr__(self) -> str:\n",
    "        return f\"[{self.trade_id}] {self.description}\"\n",
    "    \n",
    "Side = Literal['buy', 'sell']\n",
    "\n",
    "def trade(trade_id: int, side: Side, quantity: int, price: int) -> SplitTrade[str]:\n",
    "    sign = 1 if side == 'buy' else -1\n",
    "    return Trade"
   ]
  }
 ],
 "metadata": {
  "kernelspec": {
   "display_name": ".venv",
   "language": "python",
   "name": "python3"
  },
  "language_info": {
   "name": "python",
   "version": "3.11.11"
  }
 },
 "nbformat": 4,
 "nbformat_minor": 5
}
