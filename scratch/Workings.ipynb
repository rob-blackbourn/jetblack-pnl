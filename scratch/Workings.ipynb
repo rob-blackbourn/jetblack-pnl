{
 "cells": [
  {
   "cell_type": "markdown",
   "id": "f6e0d843",
   "metadata": {},
   "source": [
    "# Demonstration of Trading P&L\n",
    "\n",
    "A position consists of a number of buy or sell trades. When the\n",
    "position is flat (when there are no trades or the quantity of buys equals the\n",
    "quantity of sells) there is an unambiguous result for the P&L (the amount spent\n",
    "minus the amount received). Up until this point the P&L depends on which buys\n",
    "are matched with which sells, and which unmatched trades remain.\n",
    "\n",
    "Typically, accountants prefer a FIFO (first in, first out) style of matching.\n",
    "So if there are multiple buys, a sell matches against the earliest buy.\n",
    "\n",
    "Traders sometimes prefer a \"worst price\" approach, were a sell is matched\n",
    "against the highest price buy (the bu with the worst price).\n",
    "\n",
    "Regardless of the approach the P&L can be characterized by the following\n",
    "properties:\n",
    "\n",
    "* quantity - how much of the asset is held.\n",
    "* cost - how much has it cost to accrue the asset.\n",
    "* realized - how much profit (or loss) was realized by selling from a long\n",
    "  position, or buying from a short.\n",
    "* unmatched - trades which have not yet been completely matched.\n",
    "\n",
    "If the new trade extends the position (a buy from a long or flat position or a\n",
    "sell from a flat or short position) the quantity increases by that of the trade\n",
    "and also the cost.\n",
    "\n",
    "If the trade reduces the position a matching trade must be found. Taking FIFO\n",
    "as the method, the oldest trade is taken. There are three possibilities: The\n",
    "matching trade might be exactly the same quantity (but of opposite sign), the\n",
    "trade might have the larger quantity, or the match might have the larger quantity.\n",
    "Where the quantities don't match exactly there must be a split. If the match\n",
    "quantity is greater, the match is split and the spare is returned to the unmatched.\n",
    "If the trade is larger it is split and the remainder becomes the next trade to\n",
    "match.\n",
    "\n",
    "Each match will \"realize\" P&L (the trade either made or lost money). The cost of\n",
    "the position will also be changed as the cost of the matched trades are removed."
   ]
  },
  {
   "cell_type": "code",
   "execution_count": 1,
   "id": "739277c1",
   "metadata": {},
   "outputs": [],
   "source": [
    "from decimal import Decimal\n",
    "from typing import Literal\n",
    "\n",
    "from jetblack_pnl.core import (\n",
    "    add_trade,\n",
    "    TradingPnl,\n",
    "    IMatchedPool,\n",
    "    IUnmatchedPool,\n",
    ")\n",
    "from jetblack_pnl.impl.simple import (\n",
    "    MatchedPool,\n",
    "    UnmatchedPool,\n",
    "    Security,\n",
    "    Trade\n",
    ")"
   ]
  },
  {
   "cell_type": "code",
   "execution_count": 2,
   "id": "1140d08c",
   "metadata": {},
   "outputs": [],
   "source": [
    "Side = Literal['buy', 'sell']\n",
    "\n",
    "def trade(trade_id: int, side: Side, quantity: int, price: int) -> Trade:\n",
    "    sign = 1 if side == 'buy' else -1\n",
    "    return Trade(quantity * sign, price)\n",
    "\n",
    "def display(pnl: TradingPnl[str], matched: IMatchedPool[None, None], unmatched: IUnmatchedPool[None, None]) -> None:\n",
    "    avg_cost = -pnl.cost / pnl.quantity if pnl.quantity != 0 else 0\n",
    "    text = f\"pnl: {pnl}, avg_cost: {avg_cost}\" + \"\\n\"\n",
    "    text += \"matched:\\n\"\n",
    "    if not matched.pool(None):\n",
    "        text += \"    None\\n\"\n",
    "    else:\n",
    "        for opening, closing in matched.pool(None):\n",
    "            text += f\"    ({opening}) matches ({closing})\" + \"\\n\"\n",
    "    text += \"unmatched:\\n\"\n",
    "    if not unmatched.pool(None):\n",
    "        text += \"    None\\n\"\n",
    "    else:\n",
    "        for trade in unmatched.pool(None):\n",
    "            text += f\"    \" + str(trade) + \"\\n\"\n",
    "    print(text)"
   ]
  },
  {
   "cell_type": "code",
   "execution_count": 3,
   "id": "265824a2",
   "metadata": {},
   "outputs": [
    {
     "name": "stdout",
     "output_type": "stream",
     "text": [
      "pnl: position: 0, cost: 0, realized: 0, avg_cost: 0\n",
      "matched:\n",
      "    None\n",
      "unmatched:\n",
      "    None\n",
      "\n"
     ]
    }
   ],
   "source": [
    "sec = Security(\"AAPL\", 1, False)\n",
    "trade_id = 0\n",
    "matched = MatchedPool()\n",
    "unmatched = UnmatchedPool.Fifo()\n",
    "pnl = TradingPnl[str](Decimal(0), Decimal(0), Decimal(0))\n",
    "display(pnl, matched, unmatched)"
   ]
  },
  {
   "cell_type": "code",
   "execution_count": 4,
   "id": "0ad40464",
   "metadata": {},
   "outputs": [
    {
     "name": "stdout",
     "output_type": "stream",
     "text": [
      "pnl: position: 6, cost: -600, realized: 0, avg_cost: 100\n",
      "matched:\n",
      "    None\n",
      "unmatched:\n",
      "    buy 6 of trade: buy 6 @ 100\n",
      "\n"
     ]
    }
   ],
   "source": [
    "trade_id += 1\n",
    "pnl = add_trade(pnl, trade(trade_id, 'buy', 6, 100), sec, unmatched, matched, None)\n",
    "display(pnl, matched, unmatched)"
   ]
  },
  {
   "cell_type": "code",
   "execution_count": 5,
   "id": "74b13f1c",
   "metadata": {},
   "outputs": [
    {
     "name": "stdout",
     "output_type": "stream",
     "text": [
      "pnl: position: 12, cost: -1236, realized: 0, avg_cost: 103\n",
      "matched:\n",
      "    None\n",
      "unmatched:\n",
      "    buy 6 of trade: buy 6 @ 100\n",
      "    buy 6 of trade: buy 6 @ 106\n",
      "\n"
     ]
    }
   ],
   "source": [
    "trade_id += 1\n",
    "pnl = add_trade(pnl, trade(trade_id, 'buy', 6, 106), sec, unmatched, matched, None)\n",
    "display(pnl, matched, unmatched)"
   ]
  },
  {
   "cell_type": "code",
   "execution_count": 6,
   "id": "138a31d2",
   "metadata": {},
   "outputs": [
    {
     "name": "stdout",
     "output_type": "stream",
     "text": [
      "pnl: position: 18, cost: -1854, realized: 0, avg_cost: 103\n",
      "matched:\n",
      "    None\n",
      "unmatched:\n",
      "    buy 6 of trade: buy 6 @ 100\n",
      "    buy 6 of trade: buy 6 @ 106\n",
      "    buy 6 of trade: buy 6 @ 103\n",
      "\n"
     ]
    }
   ],
   "source": [
    "trade_id += 1\n",
    "pnl = add_trade(pnl, trade(trade_id, 'buy', 6, 103), sec, unmatched, matched, None)\n",
    "display(pnl, matched, unmatched)"
   ]
  },
  {
   "cell_type": "code",
   "execution_count": 7,
   "id": "ce3ad3d7",
   "metadata": {},
   "outputs": [
    {
     "name": "stdout",
     "output_type": "stream",
     "text": [
      "pnl: position: 9, cost: -936, realized: 27, avg_cost: 104\n",
      "matched:\n",
      "    (buy 6 of trade: buy 6 @ 100) matches (sell 6 of trade: sell 9 @ 105)\n",
      "    (buy 3 of trade: buy 6 @ 106) matches (sell 3 of trade: sell 9 @ 105)\n",
      "unmatched:\n",
      "    buy 3 of trade: buy 6 @ 106\n",
      "    buy 6 of trade: buy 6 @ 103\n",
      "\n"
     ]
    }
   ],
   "source": [
    "trade_id += 1\n",
    "pnl = add_trade(pnl, trade(trade_id, 'sell', 9, 105), sec, unmatched, matched, None)\n",
    "display(pnl, matched, unmatched)"
   ]
  },
  {
   "cell_type": "code",
   "execution_count": 8,
   "id": "653c3861",
   "metadata": {},
   "outputs": [
    {
     "name": "stdout",
     "output_type": "stream",
     "text": [
      "pnl: position: -3, cost: 321, realized: 54, avg_cost: 107\n",
      "matched:\n",
      "    (buy 6 of trade: buy 6 @ 100) matches (sell 6 of trade: sell 9 @ 105)\n",
      "    (buy 3 of trade: buy 6 @ 106) matches (sell 3 of trade: sell 9 @ 105)\n",
      "    (buy 3 of trade: buy 6 @ 106) matches (sell 3 of trade: sell 12 @ 107)\n",
      "    (buy 6 of trade: buy 6 @ 103) matches (sell 6 of trade: sell 12 @ 107)\n",
      "unmatched:\n",
      "    sell 3 of trade: sell 12 @ 107\n",
      "\n"
     ]
    }
   ],
   "source": [
    "trade_id += 1\n",
    "pnl = add_trade(pnl, trade(trade_id, 'sell', 12, 107), sec, unmatched, matched, None)\n",
    "display(pnl, matched, unmatched)"
   ]
  },
  {
   "cell_type": "code",
   "execution_count": 9,
   "id": "16b7d513",
   "metadata": {},
   "outputs": [
    {
     "name": "stdout",
     "output_type": "stream",
     "text": [
      "pnl: position: 0, cost: 0, realized: 60, avg_cost: 0\n",
      "matched:\n",
      "    (buy 6 of trade: buy 6 @ 100) matches (sell 6 of trade: sell 9 @ 105)\n",
      "    (buy 3 of trade: buy 6 @ 106) matches (sell 3 of trade: sell 9 @ 105)\n",
      "    (buy 3 of trade: buy 6 @ 106) matches (sell 3 of trade: sell 12 @ 107)\n",
      "    (buy 6 of trade: buy 6 @ 103) matches (sell 6 of trade: sell 12 @ 107)\n",
      "    (sell 3 of trade: sell 12 @ 107) matches (buy 3 of trade: buy 3 @ 105)\n",
      "unmatched:\n",
      "    None\n",
      "\n"
     ]
    }
   ],
   "source": [
    "trade_id += 1\n",
    "pnl = add_trade(pnl, trade(trade_id, 'buy', 3, 105), sec, unmatched, matched, None)\n",
    "display(pnl, matched, unmatched)"
   ]
  },
  {
   "cell_type": "code",
   "execution_count": null,
   "id": "50973425",
   "metadata": {},
   "outputs": [],
   "source": []
  }
 ],
 "metadata": {
  "kernelspec": {
   "display_name": ".venv",
   "language": "python",
   "name": "python3"
  },
  "language_info": {
   "codemirror_mode": {
    "name": "ipython",
    "version": 3
   },
   "file_extension": ".py",
   "mimetype": "text/x-python",
   "name": "python",
   "nbconvert_exporter": "python",
   "pygments_lexer": "ipython3",
   "version": "3.12.9"
  }
 },
 "nbformat": 4,
 "nbformat_minor": 5
}
