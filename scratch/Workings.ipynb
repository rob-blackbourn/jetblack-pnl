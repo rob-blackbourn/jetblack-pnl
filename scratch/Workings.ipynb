{
 "cells": [
  {
   "cell_type": "code",
   "execution_count": 1,
   "id": "739277c1",
   "metadata": {},
   "outputs": [],
   "source": [
    "from decimal import Decimal\n",
    "from typing import Literal\n",
    "\n",
    "from jetblack_pnl.core import (\n",
    "    add_trade,\n",
    "    TradingPnl,\n",
    "    IMatchedPool,\n",
    "    IUnmatchedPool,\n",
    ")\n",
    "from jetblack_pnl.impl.simple import (\n",
    "    MatchedPool,\n",
    "    UnmatchedPool,\n",
    "    Security,\n",
    "    Trade\n",
    ")\n",
    "\n",
    "class TradeData:\n",
    "\n",
    "    def __init__(self, trade_id: int, description: str) -> None:\n",
    "        self.trade_id = trade_id\n",
    "        self.description = description\n",
    "\n",
    "    def __repr__(self) -> str:\n",
    "        return f\"[{self.trade_id}] {self.description}\"\n",
    "    \n",
    "Side = Literal['buy', 'sell']\n",
    "\n",
    "def trade(trade_id: int, side: Side, quantity: int, price: int) -> Trade:\n",
    "    sign = 1 if side == 'buy' else -1\n",
    "    return Trade(quantity * sign, price)\n",
    "\n",
    "def display(pnl: TradingPnl[str], matched: IMatchedPool[None, None], unmatched: IUnmatchedPool[None, None]) -> None:\n",
    "    avg_cost = -pnl.cost / pnl.quantity if pnl.quantity != 0 else 0\n",
    "    text = f\"pnl: {pnl}, avg_cost: {avg_cost}\" + \"\\n\"\n",
    "    text += \"matched:\\n\"\n",
    "    if not matched.pool(None):\n",
    "        text += \"    None\\n\"\n",
    "    else:\n",
    "        for trades in matched.pool(None):\n",
    "            text += f\"    \" + str(trades) + \"\\n\"\n",
    "    text += \"unmatched:\\n\"\n",
    "    if not unmatched.pool(None):\n",
    "        text += \"    None\\n\"\n",
    "    else:\n",
    "        for trade in unmatched.pool(None):\n",
    "            text += f\"    \" + str(trade) + \"\\n\"\n",
    "    print(text)"
   ]
  },
  {
   "cell_type": "code",
   "execution_count": 2,
   "id": "265824a2",
   "metadata": {},
   "outputs": [
    {
     "name": "stdout",
     "output_type": "stream",
     "text": [
      "pnl: position: 0, cost: 0, realized: 0, avg_cost: 0\n",
      "matched:\n",
      "    None\n",
      "unmatched:\n",
      "    None\n",
      "\n"
     ]
    }
   ],
   "source": [
    "sec = Security(\"AAPL\", 1, False)\n",
    "trade_id = 0\n",
    "matched = MatchedPool()\n",
    "unmatched = UnmatchedPool.Fifo()\n",
    "pnl = TradingPnl[str](Decimal(0), Decimal(0), Decimal(0))\n",
    "display(pnl, matched, unmatched)"
   ]
  },
  {
   "cell_type": "code",
   "execution_count": 3,
   "id": "0ad40464",
   "metadata": {},
   "outputs": [
    {
     "name": "stdout",
     "output_type": "stream",
     "text": [
      "pnl: position: 6, cost: -600, realized: 0, avg_cost: 100\n",
      "matched:\n",
      "    None\n",
      "unmatched:\n",
      "    self.quantity=Decimal('6') <self.trade=buy 6 @ 100>\n",
      "\n"
     ]
    }
   ],
   "source": [
    "trade_id += 1\n",
    "pnl = add_trade(pnl, trade(trade_id, 'buy', 6, 100), sec, unmatched, matched, None)\n",
    "display(pnl, matched, unmatched)"
   ]
  },
  {
   "cell_type": "code",
   "execution_count": 4,
   "id": "74b13f1c",
   "metadata": {},
   "outputs": [
    {
     "name": "stdout",
     "output_type": "stream",
     "text": [
      "pnl: position: 12, cost: -1236, realized: 0, avg_cost: 103\n",
      "matched:\n",
      "    None\n",
      "unmatched:\n",
      "    self.quantity=Decimal('6') <self.trade=buy 6 @ 100>\n",
      "    self.quantity=Decimal('6') <self.trade=buy 6 @ 106>\n",
      "\n"
     ]
    }
   ],
   "source": [
    "trade_id += 1\n",
    "pnl = add_trade(pnl, trade(trade_id, 'buy', 6, 106), sec, unmatched, matched, None)\n",
    "display(pnl, matched, unmatched)"
   ]
  },
  {
   "cell_type": "code",
   "execution_count": 5,
   "id": "138a31d2",
   "metadata": {},
   "outputs": [
    {
     "name": "stdout",
     "output_type": "stream",
     "text": [
      "pnl: position: 18, cost: -1854, realized: 0, avg_cost: 103\n",
      "matched:\n",
      "    None\n",
      "unmatched:\n",
      "    self.quantity=Decimal('6') <self.trade=buy 6 @ 100>\n",
      "    self.quantity=Decimal('6') <self.trade=buy 6 @ 106>\n",
      "    self.quantity=Decimal('6') <self.trade=buy 6 @ 103>\n",
      "\n"
     ]
    }
   ],
   "source": [
    "trade_id += 1\n",
    "pnl = add_trade(pnl, trade(trade_id, 'buy', 6, 103), sec, unmatched, matched, None)\n",
    "display(pnl, matched, unmatched)"
   ]
  },
  {
   "cell_type": "code",
   "execution_count": 6,
   "id": "ce3ad3d7",
   "metadata": {},
   "outputs": [
    {
     "name": "stdout",
     "output_type": "stream",
     "text": [
      "pnl: position: 9, cost: -936, realized: 27, avg_cost: 104\n",
      "matched:\n",
      "    (self.quantity=Decimal('6') <self.trade=buy 6 @ 100>, self.quantity=Decimal('-6') <self.trade=sell 9 @ 105>)\n",
      "    (self.quantity=Decimal('3') <self.trade=buy 6 @ 106>, self.quantity=Decimal('-3') <self.trade=sell 9 @ 105>)\n",
      "unmatched:\n",
      "    self.quantity=Decimal('3') <self.trade=buy 6 @ 106>\n",
      "    self.quantity=Decimal('6') <self.trade=buy 6 @ 103>\n",
      "\n"
     ]
    }
   ],
   "source": [
    "trade_id += 1\n",
    "pnl = add_trade(pnl, trade(trade_id, 'sell', 9, 105), sec, unmatched, matched, None)\n",
    "display(pnl, matched, unmatched)"
   ]
  },
  {
   "cell_type": "code",
   "execution_count": 7,
   "id": "653c3861",
   "metadata": {},
   "outputs": [
    {
     "name": "stdout",
     "output_type": "stream",
     "text": [
      "pnl: position: -3, cost: 321, realized: 54, avg_cost: 107\n",
      "matched:\n",
      "    (self.quantity=Decimal('6') <self.trade=buy 6 @ 100>, self.quantity=Decimal('-6') <self.trade=sell 9 @ 105>)\n",
      "    (self.quantity=Decimal('3') <self.trade=buy 6 @ 106>, self.quantity=Decimal('-3') <self.trade=sell 9 @ 105>)\n",
      "    (self.quantity=Decimal('3') <self.trade=buy 6 @ 106>, self.quantity=Decimal('-3') <self.trade=sell 12 @ 107>)\n",
      "    (self.quantity=Decimal('6') <self.trade=buy 6 @ 103>, self.quantity=Decimal('-6') <self.trade=sell 12 @ 107>)\n",
      "unmatched:\n",
      "    self.quantity=Decimal('-3') <self.trade=sell 12 @ 107>\n",
      "\n"
     ]
    }
   ],
   "source": [
    "trade_id += 1\n",
    "pnl = add_trade(pnl, trade(trade_id, 'sell', 12, 107), sec, unmatched, matched, None)\n",
    "display(pnl, matched, unmatched)"
   ]
  },
  {
   "cell_type": "code",
   "execution_count": 8,
   "id": "16b7d513",
   "metadata": {},
   "outputs": [
    {
     "name": "stdout",
     "output_type": "stream",
     "text": [
      "pnl: position: 0, cost: 0, realized: 60, avg_cost: 0\n",
      "matched:\n",
      "    (self.quantity=Decimal('6') <self.trade=buy 6 @ 100>, self.quantity=Decimal('-6') <self.trade=sell 9 @ 105>)\n",
      "    (self.quantity=Decimal('3') <self.trade=buy 6 @ 106>, self.quantity=Decimal('-3') <self.trade=sell 9 @ 105>)\n",
      "    (self.quantity=Decimal('3') <self.trade=buy 6 @ 106>, self.quantity=Decimal('-3') <self.trade=sell 12 @ 107>)\n",
      "    (self.quantity=Decimal('6') <self.trade=buy 6 @ 103>, self.quantity=Decimal('-6') <self.trade=sell 12 @ 107>)\n",
      "    (self.quantity=Decimal('-3') <self.trade=sell 12 @ 107>, self.quantity=Decimal('3') <self.trade=buy 3 @ 105>)\n",
      "unmatched:\n",
      "    None\n",
      "\n"
     ]
    }
   ],
   "source": [
    "trade_id += 1\n",
    "pnl = add_trade(pnl, trade(trade_id, 'buy', 3, 105), sec, unmatched, matched, None)\n",
    "display(pnl, matched, unmatched)"
   ]
  },
  {
   "cell_type": "code",
   "execution_count": null,
   "id": "50973425",
   "metadata": {},
   "outputs": [],
   "source": []
  }
 ],
 "metadata": {
  "kernelspec": {
   "display_name": ".venv",
   "language": "python",
   "name": "python3"
  },
  "language_info": {
   "codemirror_mode": {
    "name": "ipython",
    "version": 3
   },
   "file_extension": ".py",
   "mimetype": "text/x-python",
   "name": "python",
   "nbconvert_exporter": "python",
   "pygments_lexer": "ipython3",
   "version": "3.12.9"
  }
 },
 "nbformat": 4,
 "nbformat_minor": 5
}
